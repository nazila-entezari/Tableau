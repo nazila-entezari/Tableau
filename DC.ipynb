{
 "cells": [
  {
   "cell_type": "code",
   "execution_count": 2,
   "metadata": {},
   "outputs": [],
   "source": [
    "import pandas as pd"
   ]
  },
  {
   "cell_type": "code",
   "execution_count": 3,
   "metadata": {},
   "outputs": [],
   "source": [
    "#generate the filename pattern, specify 2019,2020 as the only year, because the data was large enough to give us nearly 15 million rows of data for only 9 months of 2020 and since tableau public does not support more than that we decided to work only with that. \n",
    "date=[]\n",
    "for i in range(2019,2020):\n",
    "    for j in range(1,9):\n",
    "        if j>9:\n",
    "            d=f'{i}{j}'\n",
    "            date.append(d)\n",
    "        else:\n",
    "            d=f'{i}0{j}'\n",
    "            date.append(d)"
   ]
  },
  {
   "cell_type": "code",
   "execution_count": 4,
   "metadata": {},
   "outputs": [],
   "source": [
    "#read all the  available CSVs in a for loop and create a list of frames\n",
    "frames=[]\n",
    "for d in date: \n",
    "    try:\n",
    "        filepath=f'RESOURCES/{d}.csv'\n",
    "        df=pd.read_csv(filepath)\n",
    "        frames.append(df)\n",
    "#         print(filepath)\n",
    "#         df.head()\n",
    "    except FileNotFoundError:\n",
    "        pass\n"
   ]
  },
  {
   "cell_type": "code",
   "execution_count": 5,
   "metadata": {},
   "outputs": [],
   "source": [
    "#concatenate all the dfs for 2019 and 2020\n",
    "result = pd.concat(frames)"
   ]
  },
  {
   "cell_type": "code",
   "execution_count": 6,
   "metadata": {},
   "outputs": [
    {
     "data": {
      "text/plain": [
       "(13580306, 15)"
      ]
     },
     "execution_count": 6,
     "metadata": {},
     "output_type": "execute_result"
    }
   ],
   "source": [
    "result.shape\n",
    "# our dataset has 35 million rows which is not possible to work with in tableau public"
   ]
  },
  {
   "cell_type": "code",
   "execution_count": 7,
   "metadata": {},
   "outputs": [
    {
     "data": {
      "text/plain": [
       "519.0     103882\n",
       "497.0      79474\n",
       "3255.0     79311\n",
       "402.0      76831\n",
       "285.0      73738\n",
       "           ...  \n",
       "3432.0       215\n",
       "3719.0        26\n",
       "3040.0        10\n",
       "3250.0         6\n",
       "3245.0         6\n",
       "Name: start station id, Length: 830, dtype: int64"
      ]
     },
     "execution_count": 7,
     "metadata": {},
     "output_type": "execute_result"
    }
   ],
   "source": [
    "#So we decided to look at the station ids which are more popular to choose around 15 million rows.\n",
    "result[\"start station id\"].value_counts()"
   ]
  },
  {
   "cell_type": "code",
   "execution_count": 8,
   "metadata": {},
   "outputs": [],
   "source": [
    "# we used the station ids which have been populated more than 80 thousand times in our dataset.\n",
    "final19=result[result[\"start station id\"].map(result[\"start station id\"].value_counts())>=30000]"
   ]
  },
  {
   "cell_type": "code",
   "execution_count": 9,
   "metadata": {},
   "outputs": [
    {
     "data": {
      "text/plain": [
       "tripduration                 int64\n",
       "starttime                   object\n",
       "stoptime                    object\n",
       "start station id           float64\n",
       "start station name          object\n",
       "start station latitude     float64\n",
       "start station longitude    float64\n",
       "end station id             float64\n",
       "end station name            object\n",
       "end station latitude       float64\n",
       "end station longitude      float64\n",
       "bikeid                       int64\n",
       "usertype                    object\n",
       "birth year                   int64\n",
       "gender                       int64\n",
       "dtype: object"
      ]
     },
     "execution_count": 9,
     "metadata": {},
     "output_type": "execute_result"
    }
   ],
   "source": [
    "final19.dtypes"
   ]
  },
  {
   "cell_type": "code",
   "execution_count": 10,
   "metadata": {},
   "outputs": [
    {
     "data": {
      "text/plain": [
       "(6665910, 15)"
      ]
     },
     "execution_count": 10,
     "metadata": {},
     "output_type": "execute_result"
    }
   ],
   "source": [
    "#so we are keeping less than 15 million rows\n",
    "final19.shape"
   ]
  },
  {
   "cell_type": "code",
   "execution_count": 11,
   "metadata": {},
   "outputs": [
    {
     "data": {
      "text/plain": [
       "(156,)"
      ]
     },
     "execution_count": 11,
     "metadata": {},
     "output_type": "execute_result"
    }
   ],
   "source": [
    "#the number of stations we are keeping is 127 out of 1187 but they are most popular \n",
    "final19[\"start station id\"].unique().shape"
   ]
  },
  {
   "cell_type": "code",
   "execution_count": 12,
   "metadata": {},
   "outputs": [
    {
     "data": {
      "text/html": [
       "<div>\n",
       "<style scoped>\n",
       "    .dataframe tbody tr th:only-of-type {\n",
       "        vertical-align: middle;\n",
       "    }\n",
       "\n",
       "    .dataframe tbody tr th {\n",
       "        vertical-align: top;\n",
       "    }\n",
       "\n",
       "    .dataframe thead th {\n",
       "        text-align: right;\n",
       "    }\n",
       "</style>\n",
       "<table border=\"1\" class=\"dataframe\">\n",
       "  <thead>\n",
       "    <tr style=\"text-align: right;\">\n",
       "      <th></th>\n",
       "      <th>tripduration</th>\n",
       "      <th>starttime</th>\n",
       "      <th>stoptime</th>\n",
       "      <th>start station id</th>\n",
       "      <th>start station name</th>\n",
       "      <th>start station latitude</th>\n",
       "      <th>start station longitude</th>\n",
       "      <th>end station id</th>\n",
       "      <th>end station name</th>\n",
       "      <th>end station latitude</th>\n",
       "      <th>end station longitude</th>\n",
       "      <th>bikeid</th>\n",
       "      <th>usertype</th>\n",
       "      <th>birth year</th>\n",
       "      <th>gender</th>\n",
       "    </tr>\n",
       "  </thead>\n",
       "  <tbody>\n",
       "    <tr>\n",
       "      <th>2344223</th>\n",
       "      <td>419</td>\n",
       "      <td>2019-08-31 23:59:59.4520</td>\n",
       "      <td>2019-09-01 00:06:59.0210</td>\n",
       "      <td>447.0</td>\n",
       "      <td>8 Ave &amp; W 52 St</td>\n",
       "      <td>40.763707</td>\n",
       "      <td>-73.985162</td>\n",
       "      <td>529.0</td>\n",
       "      <td>W 42 St &amp; 8 Ave</td>\n",
       "      <td>40.757570</td>\n",
       "      <td>-73.990985</td>\n",
       "      <td>35210</td>\n",
       "      <td>Subscriber</td>\n",
       "      <td>1994</td>\n",
       "      <td>1</td>\n",
       "    </tr>\n",
       "    <tr>\n",
       "      <th>2344222</th>\n",
       "      <td>1301</td>\n",
       "      <td>2019-08-31 23:59:58.3620</td>\n",
       "      <td>2019-09-01 00:21:39.7040</td>\n",
       "      <td>3168.0</td>\n",
       "      <td>Central Park West &amp; W 85 St</td>\n",
       "      <td>40.784727</td>\n",
       "      <td>-73.969617</td>\n",
       "      <td>423.0</td>\n",
       "      <td>W 54 St &amp; 9 Ave</td>\n",
       "      <td>40.765849</td>\n",
       "      <td>-73.986905</td>\n",
       "      <td>38664</td>\n",
       "      <td>Customer</td>\n",
       "      <td>1969</td>\n",
       "      <td>0</td>\n",
       "    </tr>\n",
       "    <tr>\n",
       "      <th>2344221</th>\n",
       "      <td>1614</td>\n",
       "      <td>2019-08-31 23:59:48.1560</td>\n",
       "      <td>2019-09-01 00:26:42.7760</td>\n",
       "      <td>387.0</td>\n",
       "      <td>Centre St &amp; Chambers St</td>\n",
       "      <td>40.712733</td>\n",
       "      <td>-74.004607</td>\n",
       "      <td>3440.0</td>\n",
       "      <td>Fulton St &amp; Adams St</td>\n",
       "      <td>40.692418</td>\n",
       "      <td>-73.989495</td>\n",
       "      <td>28485</td>\n",
       "      <td>Customer</td>\n",
       "      <td>1969</td>\n",
       "      <td>0</td>\n",
       "    </tr>\n",
       "    <tr>\n",
       "      <th>2344218</th>\n",
       "      <td>1767</td>\n",
       "      <td>2019-08-31 23:59:45.7730</td>\n",
       "      <td>2019-09-01 00:29:13.6000</td>\n",
       "      <td>403.0</td>\n",
       "      <td>E 2 St &amp; 2 Ave</td>\n",
       "      <td>40.725029</td>\n",
       "      <td>-73.990697</td>\n",
       "      <td>3141.0</td>\n",
       "      <td>1 Ave &amp; E 68 St</td>\n",
       "      <td>40.765005</td>\n",
       "      <td>-73.958185</td>\n",
       "      <td>25832</td>\n",
       "      <td>Customer</td>\n",
       "      <td>1993</td>\n",
       "      <td>1</td>\n",
       "    </tr>\n",
       "    <tr>\n",
       "      <th>2344216</th>\n",
       "      <td>231</td>\n",
       "      <td>2019-08-31 23:59:39.0230</td>\n",
       "      <td>2019-09-01 00:03:30.4820</td>\n",
       "      <td>293.0</td>\n",
       "      <td>Lafayette St &amp; E 8 St</td>\n",
       "      <td>40.730207</td>\n",
       "      <td>-73.991026</td>\n",
       "      <td>285.0</td>\n",
       "      <td>Broadway &amp; E 14 St</td>\n",
       "      <td>40.734546</td>\n",
       "      <td>-73.990741</td>\n",
       "      <td>28225</td>\n",
       "      <td>Subscriber</td>\n",
       "      <td>1993</td>\n",
       "      <td>2</td>\n",
       "    </tr>\n",
       "    <tr>\n",
       "      <th>...</th>\n",
       "      <td>...</td>\n",
       "      <td>...</td>\n",
       "      <td>...</td>\n",
       "      <td>...</td>\n",
       "      <td>...</td>\n",
       "      <td>...</td>\n",
       "      <td>...</td>\n",
       "      <td>...</td>\n",
       "      <td>...</td>\n",
       "      <td>...</td>\n",
       "      <td>...</td>\n",
       "      <td>...</td>\n",
       "      <td>...</td>\n",
       "      <td>...</td>\n",
       "      <td>...</td>\n",
       "    </tr>\n",
       "    <tr>\n",
       "      <th>9</th>\n",
       "      <td>123</td>\n",
       "      <td>2019-01-01 00:12:19.6030</td>\n",
       "      <td>2019-01-01 00:14:23.1040</td>\n",
       "      <td>432.0</td>\n",
       "      <td>E 7 St &amp; Avenue A</td>\n",
       "      <td>40.726218</td>\n",
       "      <td>-73.983799</td>\n",
       "      <td>3656.0</td>\n",
       "      <td>E 2 St &amp; Avenue A</td>\n",
       "      <td>40.723077</td>\n",
       "      <td>-73.985836</td>\n",
       "      <td>35206</td>\n",
       "      <td>Subscriber</td>\n",
       "      <td>1987</td>\n",
       "      <td>1</td>\n",
       "    </tr>\n",
       "    <tr>\n",
       "      <th>7</th>\n",
       "      <td>1547</td>\n",
       "      <td>2019-01-01 00:11:22.9070</td>\n",
       "      <td>2019-01-01 00:37:10.0550</td>\n",
       "      <td>285.0</td>\n",
       "      <td>Broadway &amp; E 14 St</td>\n",
       "      <td>40.734546</td>\n",
       "      <td>-73.990741</td>\n",
       "      <td>3358.0</td>\n",
       "      <td>Garfield Pl &amp; 8 Ave</td>\n",
       "      <td>40.671198</td>\n",
       "      <td>-73.974841</td>\n",
       "      <td>35551</td>\n",
       "      <td>Subscriber</td>\n",
       "      <td>1981</td>\n",
       "      <td>1</td>\n",
       "    </tr>\n",
       "    <tr>\n",
       "      <th>4</th>\n",
       "      <td>303</td>\n",
       "      <td>2019-01-01 00:07:35.9450</td>\n",
       "      <td>2019-01-01 00:12:39.5020</td>\n",
       "      <td>229.0</td>\n",
       "      <td>Great Jones St</td>\n",
       "      <td>40.727434</td>\n",
       "      <td>-73.993790</td>\n",
       "      <td>503.0</td>\n",
       "      <td>E 20 St &amp; Park Ave</td>\n",
       "      <td>40.738274</td>\n",
       "      <td>-73.987520</td>\n",
       "      <td>35379</td>\n",
       "      <td>Subscriber</td>\n",
       "      <td>1979</td>\n",
       "      <td>1</td>\n",
       "    </tr>\n",
       "    <tr>\n",
       "      <th>3</th>\n",
       "      <td>2719</td>\n",
       "      <td>2019-01-01 00:07:03.5450</td>\n",
       "      <td>2019-01-01 00:52:22.6500</td>\n",
       "      <td>504.0</td>\n",
       "      <td>1 Ave &amp; E 16 St</td>\n",
       "      <td>40.732219</td>\n",
       "      <td>-73.981656</td>\n",
       "      <td>3709.0</td>\n",
       "      <td>W 15 St &amp; 6 Ave</td>\n",
       "      <td>40.738046</td>\n",
       "      <td>-73.996430</td>\n",
       "      <td>21579</td>\n",
       "      <td>Subscriber</td>\n",
       "      <td>1990</td>\n",
       "      <td>1</td>\n",
       "    </tr>\n",
       "    <tr>\n",
       "      <th>1</th>\n",
       "      <td>316</td>\n",
       "      <td>2019-01-01 00:04:43.7360</td>\n",
       "      <td>2019-01-01 00:10:00.6080</td>\n",
       "      <td>519.0</td>\n",
       "      <td>Pershing Square North</td>\n",
       "      <td>40.751873</td>\n",
       "      <td>-73.977706</td>\n",
       "      <td>518.0</td>\n",
       "      <td>E 39 St &amp; 2 Ave</td>\n",
       "      <td>40.747804</td>\n",
       "      <td>-73.973442</td>\n",
       "      <td>32723</td>\n",
       "      <td>Subscriber</td>\n",
       "      <td>1964</td>\n",
       "      <td>1</td>\n",
       "    </tr>\n",
       "  </tbody>\n",
       "</table>\n",
       "<p>6665910 rows × 15 columns</p>\n",
       "</div>"
      ],
      "text/plain": [
       "         tripduration                 starttime                  stoptime  \\\n",
       "2344223           419  2019-08-31 23:59:59.4520  2019-09-01 00:06:59.0210   \n",
       "2344222          1301  2019-08-31 23:59:58.3620  2019-09-01 00:21:39.7040   \n",
       "2344221          1614  2019-08-31 23:59:48.1560  2019-09-01 00:26:42.7760   \n",
       "2344218          1767  2019-08-31 23:59:45.7730  2019-09-01 00:29:13.6000   \n",
       "2344216           231  2019-08-31 23:59:39.0230  2019-09-01 00:03:30.4820   \n",
       "...               ...                       ...                       ...   \n",
       "9                 123  2019-01-01 00:12:19.6030  2019-01-01 00:14:23.1040   \n",
       "7                1547  2019-01-01 00:11:22.9070  2019-01-01 00:37:10.0550   \n",
       "4                 303  2019-01-01 00:07:35.9450  2019-01-01 00:12:39.5020   \n",
       "3                2719  2019-01-01 00:07:03.5450  2019-01-01 00:52:22.6500   \n",
       "1                 316  2019-01-01 00:04:43.7360  2019-01-01 00:10:00.6080   \n",
       "\n",
       "         start station id           start station name  \\\n",
       "2344223             447.0              8 Ave & W 52 St   \n",
       "2344222            3168.0  Central Park West & W 85 St   \n",
       "2344221             387.0      Centre St & Chambers St   \n",
       "2344218             403.0               E 2 St & 2 Ave   \n",
       "2344216             293.0        Lafayette St & E 8 St   \n",
       "...                   ...                          ...   \n",
       "9                   432.0            E 7 St & Avenue A   \n",
       "7                   285.0           Broadway & E 14 St   \n",
       "4                   229.0               Great Jones St   \n",
       "3                   504.0              1 Ave & E 16 St   \n",
       "1                   519.0        Pershing Square North   \n",
       "\n",
       "         start station latitude  start station longitude  end station id  \\\n",
       "2344223               40.763707               -73.985162           529.0   \n",
       "2344222               40.784727               -73.969617           423.0   \n",
       "2344221               40.712733               -74.004607          3440.0   \n",
       "2344218               40.725029               -73.990697          3141.0   \n",
       "2344216               40.730207               -73.991026           285.0   \n",
       "...                         ...                      ...             ...   \n",
       "9                     40.726218               -73.983799          3656.0   \n",
       "7                     40.734546               -73.990741          3358.0   \n",
       "4                     40.727434               -73.993790           503.0   \n",
       "3                     40.732219               -73.981656          3709.0   \n",
       "1                     40.751873               -73.977706           518.0   \n",
       "\n",
       "             end station name  end station latitude  end station longitude  \\\n",
       "2344223       W 42 St & 8 Ave             40.757570             -73.990985   \n",
       "2344222       W 54 St & 9 Ave             40.765849             -73.986905   \n",
       "2344221  Fulton St & Adams St             40.692418             -73.989495   \n",
       "2344218       1 Ave & E 68 St             40.765005             -73.958185   \n",
       "2344216    Broadway & E 14 St             40.734546             -73.990741   \n",
       "...                       ...                   ...                    ...   \n",
       "9           E 2 St & Avenue A             40.723077             -73.985836   \n",
       "7         Garfield Pl & 8 Ave             40.671198             -73.974841   \n",
       "4          E 20 St & Park Ave             40.738274             -73.987520   \n",
       "3             W 15 St & 6 Ave             40.738046             -73.996430   \n",
       "1             E 39 St & 2 Ave             40.747804             -73.973442   \n",
       "\n",
       "         bikeid    usertype  birth year  gender  \n",
       "2344223   35210  Subscriber        1994       1  \n",
       "2344222   38664    Customer        1969       0  \n",
       "2344221   28485    Customer        1969       0  \n",
       "2344218   25832    Customer        1993       1  \n",
       "2344216   28225  Subscriber        1993       2  \n",
       "...         ...         ...         ...     ...  \n",
       "9         35206  Subscriber        1987       1  \n",
       "7         35551  Subscriber        1981       1  \n",
       "4         35379  Subscriber        1979       1  \n",
       "3         21579  Subscriber        1990       1  \n",
       "1         32723  Subscriber        1964       1  \n",
       "\n",
       "[6665910 rows x 15 columns]"
      ]
     },
     "execution_count": 12,
     "metadata": {},
     "output_type": "execute_result"
    }
   ],
   "source": [
    "final19.sort_values(by=[\"starttime\"],ascending=False)"
   ]
  },
  {
   "cell_type": "markdown",
   "metadata": {},
   "source": [
    "# longitude and latitude to destination conversion"
   ]
  },
  {
   "cell_type": "code",
   "execution_count": 13,
   "metadata": {},
   "outputs": [],
   "source": [
    "#     Calculate the great circle distance between two points \n",
    "#     on the earth (specified in decimal degrees)\n",
    "\n",
    "from math import radians, cos, sin, asin, sqrt\n",
    "def haversine(lon1, lat1, lon2, lat2):\n",
    "    # convert decimal degrees to radians \n",
    "    lon1, lat1, lon2, lat2 = map(radians, [lon1, lat1, lon2, lat2])\n",
    "    # haversine formula \n",
    "    dlon = lon2 - lon1 \n",
    "    dlat = lat2 - lat1 \n",
    "    a = sin(dlat/2)**2 + cos(lat1) * cos(lat2) * sin(dlon/2)**2\n",
    "    c = 2 * asin(sqrt(a)) \n",
    "    r = 3956 # Radius 6371 of earth in kilometers. Use 3956 for miles\n",
    "    return c * r"
   ]
  },
  {
   "cell_type": "code",
   "execution_count": 14,
   "metadata": {},
   "outputs": [],
   "source": [
    "# lon1=final[\"start station longitude\"]\n",
    "# lon2=final[\"end station longitude\"]\n",
    "# lat1=final[\"start station latitude\"]\n",
    "# lat2=final[\"end station latitude\"]\n",
    "new_column = []                    #empty column for distance\n",
    "for index,row in final19.iterrows():\n",
    "    lat1 = row[\"start station latitude\"] \n",
    "    lon1 = row[\"start station longitude\"] \n",
    "    lat2 = row[\"end station latitude\"] \n",
    "    lon2 = row[\"end station longitude\"] \n",
    "    value = haversine(lat1, lon1, lat2, lon2)  #get the distance\n",
    "    new_column.append(value)   #append the empty list with distance values"
   ]
  },
  {
   "cell_type": "code",
   "execution_count": 15,
   "metadata": {},
   "outputs": [],
   "source": [
    "final19.insert(15,\"Distance\",new_column)  #15 is the index where you want to place your column. Column index starts with 0. \"Distance\" is the header and new_column are the values in the column.\n"
   ]
  },
  {
   "cell_type": "code",
   "execution_count": 16,
   "metadata": {},
   "outputs": [
    {
     "data": {
      "text/html": [
       "<div>\n",
       "<style scoped>\n",
       "    .dataframe tbody tr th:only-of-type {\n",
       "        vertical-align: middle;\n",
       "    }\n",
       "\n",
       "    .dataframe tbody tr th {\n",
       "        vertical-align: top;\n",
       "    }\n",
       "\n",
       "    .dataframe thead th {\n",
       "        text-align: right;\n",
       "    }\n",
       "</style>\n",
       "<table border=\"1\" class=\"dataframe\">\n",
       "  <thead>\n",
       "    <tr style=\"text-align: right;\">\n",
       "      <th></th>\n",
       "      <th>tripduration</th>\n",
       "      <th>starttime</th>\n",
       "      <th>stoptime</th>\n",
       "      <th>start station id</th>\n",
       "      <th>start station name</th>\n",
       "      <th>start station latitude</th>\n",
       "      <th>start station longitude</th>\n",
       "      <th>end station id</th>\n",
       "      <th>end station name</th>\n",
       "      <th>end station latitude</th>\n",
       "      <th>end station longitude</th>\n",
       "      <th>bikeid</th>\n",
       "      <th>usertype</th>\n",
       "      <th>birth year</th>\n",
       "      <th>gender</th>\n",
       "      <th>Distance</th>\n",
       "    </tr>\n",
       "  </thead>\n",
       "  <tbody>\n",
       "    <tr>\n",
       "      <th>1</th>\n",
       "      <td>316</td>\n",
       "      <td>2019-01-01 00:04:43.7360</td>\n",
       "      <td>2019-01-01 00:10:00.6080</td>\n",
       "      <td>519.0</td>\n",
       "      <td>Pershing Square North</td>\n",
       "      <td>40.751873</td>\n",
       "      <td>-73.977706</td>\n",
       "      <td>518.0</td>\n",
       "      <td>E 39 St &amp; 2 Ave</td>\n",
       "      <td>40.747804</td>\n",
       "      <td>-73.973442</td>\n",
       "      <td>32723</td>\n",
       "      <td>Subscriber</td>\n",
       "      <td>1964</td>\n",
       "      <td>1</td>\n",
       "      <td>0.304460</td>\n",
       "    </tr>\n",
       "    <tr>\n",
       "      <th>3</th>\n",
       "      <td>2719</td>\n",
       "      <td>2019-01-01 00:07:03.5450</td>\n",
       "      <td>2019-01-01 00:52:22.6500</td>\n",
       "      <td>504.0</td>\n",
       "      <td>1 Ave &amp; E 16 St</td>\n",
       "      <td>40.732219</td>\n",
       "      <td>-73.981656</td>\n",
       "      <td>3709.0</td>\n",
       "      <td>W 15 St &amp; 6 Ave</td>\n",
       "      <td>40.738046</td>\n",
       "      <td>-73.996430</td>\n",
       "      <td>21579</td>\n",
       "      <td>Subscriber</td>\n",
       "      <td>1990</td>\n",
       "      <td>1</td>\n",
       "      <td>1.026095</td>\n",
       "    </tr>\n",
       "    <tr>\n",
       "      <th>4</th>\n",
       "      <td>303</td>\n",
       "      <td>2019-01-01 00:07:35.9450</td>\n",
       "      <td>2019-01-01 00:12:39.5020</td>\n",
       "      <td>229.0</td>\n",
       "      <td>Great Jones St</td>\n",
       "      <td>40.727434</td>\n",
       "      <td>-73.993790</td>\n",
       "      <td>503.0</td>\n",
       "      <td>E 20 St &amp; Park Ave</td>\n",
       "      <td>40.738274</td>\n",
       "      <td>-73.987520</td>\n",
       "      <td>35379</td>\n",
       "      <td>Subscriber</td>\n",
       "      <td>1979</td>\n",
       "      <td>1</td>\n",
       "      <td>0.479643</td>\n",
       "    </tr>\n",
       "    <tr>\n",
       "      <th>7</th>\n",
       "      <td>1547</td>\n",
       "      <td>2019-01-01 00:11:22.9070</td>\n",
       "      <td>2019-01-01 00:37:10.0550</td>\n",
       "      <td>285.0</td>\n",
       "      <td>Broadway &amp; E 14 St</td>\n",
       "      <td>40.734546</td>\n",
       "      <td>-73.990741</td>\n",
       "      <td>3358.0</td>\n",
       "      <td>Garfield Pl &amp; 8 Ave</td>\n",
       "      <td>40.671198</td>\n",
       "      <td>-73.974841</td>\n",
       "      <td>35551</td>\n",
       "      <td>Subscriber</td>\n",
       "      <td>1981</td>\n",
       "      <td>1</td>\n",
       "      <td>1.631488</td>\n",
       "    </tr>\n",
       "    <tr>\n",
       "      <th>9</th>\n",
       "      <td>123</td>\n",
       "      <td>2019-01-01 00:12:19.6030</td>\n",
       "      <td>2019-01-01 00:14:23.1040</td>\n",
       "      <td>432.0</td>\n",
       "      <td>E 7 St &amp; Avenue A</td>\n",
       "      <td>40.726218</td>\n",
       "      <td>-73.983799</td>\n",
       "      <td>3656.0</td>\n",
       "      <td>E 2 St &amp; Avenue A</td>\n",
       "      <td>40.723077</td>\n",
       "      <td>-73.985836</td>\n",
       "      <td>35206</td>\n",
       "      <td>Subscriber</td>\n",
       "      <td>1987</td>\n",
       "      <td>1</td>\n",
       "      <td>0.152880</td>\n",
       "    </tr>\n",
       "  </tbody>\n",
       "</table>\n",
       "</div>"
      ],
      "text/plain": [
       "   tripduration                 starttime                  stoptime  \\\n",
       "1           316  2019-01-01 00:04:43.7360  2019-01-01 00:10:00.6080   \n",
       "3          2719  2019-01-01 00:07:03.5450  2019-01-01 00:52:22.6500   \n",
       "4           303  2019-01-01 00:07:35.9450  2019-01-01 00:12:39.5020   \n",
       "7          1547  2019-01-01 00:11:22.9070  2019-01-01 00:37:10.0550   \n",
       "9           123  2019-01-01 00:12:19.6030  2019-01-01 00:14:23.1040   \n",
       "\n",
       "   start station id     start station name  start station latitude  \\\n",
       "1             519.0  Pershing Square North               40.751873   \n",
       "3             504.0        1 Ave & E 16 St               40.732219   \n",
       "4             229.0         Great Jones St               40.727434   \n",
       "7             285.0     Broadway & E 14 St               40.734546   \n",
       "9             432.0      E 7 St & Avenue A               40.726218   \n",
       "\n",
       "   start station longitude  end station id     end station name  \\\n",
       "1               -73.977706           518.0      E 39 St & 2 Ave   \n",
       "3               -73.981656          3709.0      W 15 St & 6 Ave   \n",
       "4               -73.993790           503.0   E 20 St & Park Ave   \n",
       "7               -73.990741          3358.0  Garfield Pl & 8 Ave   \n",
       "9               -73.983799          3656.0    E 2 St & Avenue A   \n",
       "\n",
       "   end station latitude  end station longitude  bikeid    usertype  \\\n",
       "1             40.747804             -73.973442   32723  Subscriber   \n",
       "3             40.738046             -73.996430   21579  Subscriber   \n",
       "4             40.738274             -73.987520   35379  Subscriber   \n",
       "7             40.671198             -73.974841   35551  Subscriber   \n",
       "9             40.723077             -73.985836   35206  Subscriber   \n",
       "\n",
       "   birth year  gender  Distance  \n",
       "1        1964       1  0.304460  \n",
       "3        1990       1  1.026095  \n",
       "4        1979       1  0.479643  \n",
       "7        1981       1  1.631488  \n",
       "9        1987       1  0.152880  "
      ]
     },
     "execution_count": 16,
     "metadata": {},
     "output_type": "execute_result"
    }
   ],
   "source": [
    "final19.head()"
   ]
  },
  {
   "cell_type": "code",
   "execution_count": 17,
   "metadata": {},
   "outputs": [],
   "source": [
    "final19.to_csv('Resources/2019-Citibike-data.csv')"
   ]
  },
  {
   "cell_type": "code",
   "execution_count": 18,
   "metadata": {},
   "outputs": [
    {
     "data": {
      "text/plain": [
       "5305630.449704299"
      ]
     },
     "execution_count": 18,
     "metadata": {},
     "output_type": "execute_result"
    }
   ],
   "source": [
    "final19.Distance.sum()"
   ]
  },
  {
   "cell_type": "markdown",
   "metadata": {},
   "source": [
    "\n"
   ]
  },
  {
   "cell_type": "code",
   "execution_count": 19,
   "metadata": {},
   "outputs": [],
   "source": [
    "#generate the filename pattern, specify 2020 as the only year, because the data was large enough to give us nearly 15 million rows of data for only 9 months of 2020 and since tableau public does not support more than that we decided to work only with that. \n",
    "date=[]\n",
    "for i in range(2020,2021):\n",
    "    for j in range(1,9):\n",
    "        if j>9:\n",
    "            d=f'{i}{j}'\n",
    "            date.append(d)\n",
    "        else:\n",
    "            d=f'{i}0{j}'\n",
    "            date.append(d)"
   ]
  },
  {
   "cell_type": "code",
   "execution_count": 20,
   "metadata": {},
   "outputs": [],
   "source": [
    "#read all the  available CSVs in a for loop and create a list of frames\n",
    "frames=[]\n",
    "for d in date: \n",
    "    try:\n",
    "        filepath=f'RESOURCES/{d}.csv'\n",
    "        df=pd.read_csv(filepath)\n",
    "        frames.append(df)\n",
    "#         print(filepath)\n",
    "#         df.head()\n",
    "    except FileNotFoundError:\n",
    "        pass\n"
   ]
  },
  {
   "cell_type": "code",
   "execution_count": 21,
   "metadata": {},
   "outputs": [],
   "source": [
    "#concatenate all the dfs for 2019 and 2020\n",
    "result = pd.concat(frames)"
   ]
  },
  {
   "cell_type": "code",
   "execution_count": 22,
   "metadata": {},
   "outputs": [
    {
     "data": {
      "text/plain": [
       "(11944130, 15)"
      ]
     },
     "execution_count": 22,
     "metadata": {},
     "output_type": "execute_result"
    }
   ],
   "source": [
    "result.shape\n",
    "# our dataset has 35 million rows which is not possible to work with in tableau public"
   ]
  },
  {
   "cell_type": "code",
   "execution_count": 23,
   "metadata": {},
   "outputs": [
    {
     "data": {
      "text/plain": [
       "514     65689\n",
       "426     64629\n",
       "3141    58915\n",
       "435     58123\n",
       "499     57859\n",
       "        ...  \n",
       "4086       31\n",
       "4087       26\n",
       "4084       23\n",
       "3912        3\n",
       "4090        2\n",
       "Name: start station id, Length: 1065, dtype: int64"
      ]
     },
     "execution_count": 23,
     "metadata": {},
     "output_type": "execute_result"
    }
   ],
   "source": [
    "#So we decided to look at the station ids which are more popular to choose around 15 million rows.\n",
    "result[\"start station id\"].value_counts()"
   ]
  },
  {
   "cell_type": "code",
   "execution_count": 91,
   "metadata": {},
   "outputs": [],
   "source": [
    "# we used the station ids which have been populated more than 80 thousand times in our dataset.\n",
    "final20=result[result[\"start station id\"].map(result[\"start station id\"].value_counts())>=23950]"
   ]
  },
  {
   "cell_type": "code",
   "execution_count": 92,
   "metadata": {},
   "outputs": [
    {
     "data": {
      "text/plain": [
       "(5154476, 15)"
      ]
     },
     "execution_count": 92,
     "metadata": {},
     "output_type": "execute_result"
    }
   ],
   "source": [
    "#so we are keeping less than 15 million rows\n",
    "final20.shape"
   ]
  },
  {
   "cell_type": "code",
   "execution_count": 93,
   "metadata": {},
   "outputs": [
    {
     "data": {
      "text/plain": [
       "(156,)"
      ]
     },
     "execution_count": 93,
     "metadata": {},
     "output_type": "execute_result"
    }
   ],
   "source": [
    "#the number of stations we are keeping is 127 out of 1187 but they are most popular \n",
    "final20[\"start station id\"].unique().shape"
   ]
  },
  {
   "cell_type": "code",
   "execution_count": 94,
   "metadata": {},
   "outputs": [],
   "source": [
    "# lon1=final[\"start station longitude\"]\n",
    "# lon2=final[\"end station longitude\"]\n",
    "# lat1=final[\"start station latitude\"]\n",
    "# lat2=final[\"end station latitude\"]\n",
    "new_column = []                    #empty column for distance\n",
    "for index,row in final20.iterrows():\n",
    "    lat1 = row[\"start station latitude\"] \n",
    "    lon1 = row[\"start station longitude\"] \n",
    "    lat2 = row[\"end station latitude\"] \n",
    "    lon2 = row[\"end station longitude\"] \n",
    "    value = haversine(lat1, lon1, lat2, lon2)  #get the distance\n",
    "    new_column.append(value)   #append the empty list with distance values"
   ]
  },
  {
   "cell_type": "code",
   "execution_count": 95,
   "metadata": {},
   "outputs": [],
   "source": [
    "final20.insert(15,\"Distance\",new_column)  #15 is the index where you want to place your column. Column index starts with 0. \"Distance\" is the header and new_column are the values in the column.\n"
   ]
  },
  {
   "cell_type": "code",
   "execution_count": 96,
   "metadata": {},
   "outputs": [
    {
     "data": {
      "text/html": [
       "<div>\n",
       "<style scoped>\n",
       "    .dataframe tbody tr th:only-of-type {\n",
       "        vertical-align: middle;\n",
       "    }\n",
       "\n",
       "    .dataframe tbody tr th {\n",
       "        vertical-align: top;\n",
       "    }\n",
       "\n",
       "    .dataframe thead th {\n",
       "        text-align: right;\n",
       "    }\n",
       "</style>\n",
       "<table border=\"1\" class=\"dataframe\">\n",
       "  <thead>\n",
       "    <tr style=\"text-align: right;\">\n",
       "      <th></th>\n",
       "      <th>tripduration</th>\n",
       "      <th>starttime</th>\n",
       "      <th>stoptime</th>\n",
       "      <th>start station id</th>\n",
       "      <th>start station name</th>\n",
       "      <th>start station latitude</th>\n",
       "      <th>start station longitude</th>\n",
       "      <th>end station id</th>\n",
       "      <th>end station name</th>\n",
       "      <th>end station latitude</th>\n",
       "      <th>end station longitude</th>\n",
       "      <th>bikeid</th>\n",
       "      <th>usertype</th>\n",
       "      <th>birth year</th>\n",
       "      <th>gender</th>\n",
       "      <th>Distance</th>\n",
       "    </tr>\n",
       "  </thead>\n",
       "  <tbody>\n",
       "    <tr>\n",
       "      <th>0</th>\n",
       "      <td>789</td>\n",
       "      <td>2020-01-01 00:00:55.3900</td>\n",
       "      <td>2020-01-01 00:14:05.1470</td>\n",
       "      <td>504</td>\n",
       "      <td>1 Ave &amp; E 16 St</td>\n",
       "      <td>40.732219</td>\n",
       "      <td>-73.981656</td>\n",
       "      <td>307</td>\n",
       "      <td>Canal St &amp; Rutgers St</td>\n",
       "      <td>40.714275</td>\n",
       "      <td>-73.989900</td>\n",
       "      <td>30326</td>\n",
       "      <td>Subscriber</td>\n",
       "      <td>1992</td>\n",
       "      <td>1</td>\n",
       "      <td>0.663982</td>\n",
       "    </tr>\n",
       "    <tr>\n",
       "      <th>1</th>\n",
       "      <td>1541</td>\n",
       "      <td>2020-01-01 00:01:08.1020</td>\n",
       "      <td>2020-01-01 00:26:49.1780</td>\n",
       "      <td>3423</td>\n",
       "      <td>West Drive &amp; Prospect Park West</td>\n",
       "      <td>40.661063</td>\n",
       "      <td>-73.979453</td>\n",
       "      <td>3300</td>\n",
       "      <td>Prospect Park West &amp; 8 St</td>\n",
       "      <td>40.665147</td>\n",
       "      <td>-73.976376</td>\n",
       "      <td>17105</td>\n",
       "      <td>Customer</td>\n",
       "      <td>1969</td>\n",
       "      <td>1</td>\n",
       "      <td>0.226223</td>\n",
       "    </tr>\n",
       "    <tr>\n",
       "      <th>2</th>\n",
       "      <td>1464</td>\n",
       "      <td>2020-01-01 00:01:42.1400</td>\n",
       "      <td>2020-01-01 00:26:07.0110</td>\n",
       "      <td>3687</td>\n",
       "      <td>E 33 St &amp; 1 Ave</td>\n",
       "      <td>40.743227</td>\n",
       "      <td>-73.974498</td>\n",
       "      <td>259</td>\n",
       "      <td>South St &amp; Whitehall St</td>\n",
       "      <td>40.701221</td>\n",
       "      <td>-74.012342</td>\n",
       "      <td>40177</td>\n",
       "      <td>Subscriber</td>\n",
       "      <td>1963</td>\n",
       "      <td>1</td>\n",
       "      <td>2.732620</td>\n",
       "    </tr>\n",
       "    <tr>\n",
       "      <th>3</th>\n",
       "      <td>592</td>\n",
       "      <td>2020-01-01 00:01:45.5610</td>\n",
       "      <td>2020-01-01 00:11:38.1550</td>\n",
       "      <td>346</td>\n",
       "      <td>Bank St &amp; Hudson St</td>\n",
       "      <td>40.736529</td>\n",
       "      <td>-74.006180</td>\n",
       "      <td>490</td>\n",
       "      <td>8 Ave &amp; W 33 St</td>\n",
       "      <td>40.751551</td>\n",
       "      <td>-73.993934</td>\n",
       "      <td>27690</td>\n",
       "      <td>Subscriber</td>\n",
       "      <td>1980</td>\n",
       "      <td>1</td>\n",
       "      <td>0.892570</td>\n",
       "    </tr>\n",
       "    <tr>\n",
       "      <th>7</th>\n",
       "      <td>1758</td>\n",
       "      <td>2020-01-01 00:02:19.6320</td>\n",
       "      <td>2020-01-01 00:31:37.9640</td>\n",
       "      <td>514</td>\n",
       "      <td>12 Ave &amp; W 40 St</td>\n",
       "      <td>40.760875</td>\n",
       "      <td>-74.002777</td>\n",
       "      <td>426</td>\n",
       "      <td>West St &amp; Chambers St</td>\n",
       "      <td>40.717548</td>\n",
       "      <td>-74.013221</td>\n",
       "      <td>30055</td>\n",
       "      <td>Subscriber</td>\n",
       "      <td>1969</td>\n",
       "      <td>0</td>\n",
       "      <td>1.095103</td>\n",
       "    </tr>\n",
       "  </tbody>\n",
       "</table>\n",
       "</div>"
      ],
      "text/plain": [
       "   tripduration                 starttime                  stoptime  \\\n",
       "0           789  2020-01-01 00:00:55.3900  2020-01-01 00:14:05.1470   \n",
       "1          1541  2020-01-01 00:01:08.1020  2020-01-01 00:26:49.1780   \n",
       "2          1464  2020-01-01 00:01:42.1400  2020-01-01 00:26:07.0110   \n",
       "3           592  2020-01-01 00:01:45.5610  2020-01-01 00:11:38.1550   \n",
       "7          1758  2020-01-01 00:02:19.6320  2020-01-01 00:31:37.9640   \n",
       "\n",
       "   start station id               start station name  start station latitude  \\\n",
       "0               504                  1 Ave & E 16 St               40.732219   \n",
       "1              3423  West Drive & Prospect Park West               40.661063   \n",
       "2              3687                  E 33 St & 1 Ave               40.743227   \n",
       "3               346              Bank St & Hudson St               40.736529   \n",
       "7               514                 12 Ave & W 40 St               40.760875   \n",
       "\n",
       "   start station longitude  end station id           end station name  \\\n",
       "0               -73.981656             307      Canal St & Rutgers St   \n",
       "1               -73.979453            3300  Prospect Park West & 8 St   \n",
       "2               -73.974498             259    South St & Whitehall St   \n",
       "3               -74.006180             490            8 Ave & W 33 St   \n",
       "7               -74.002777             426      West St & Chambers St   \n",
       "\n",
       "   end station latitude  end station longitude  bikeid    usertype  \\\n",
       "0             40.714275             -73.989900   30326  Subscriber   \n",
       "1             40.665147             -73.976376   17105    Customer   \n",
       "2             40.701221             -74.012342   40177  Subscriber   \n",
       "3             40.751551             -73.993934   27690  Subscriber   \n",
       "7             40.717548             -74.013221   30055  Subscriber   \n",
       "\n",
       "   birth year  gender  Distance  \n",
       "0        1992       1  0.663982  \n",
       "1        1969       1  0.226223  \n",
       "2        1963       1  2.732620  \n",
       "3        1980       1  0.892570  \n",
       "7        1969       0  1.095103  "
      ]
     },
     "execution_count": 96,
     "metadata": {},
     "output_type": "execute_result"
    }
   ],
   "source": [
    "final20.head()"
   ]
  },
  {
   "cell_type": "code",
   "execution_count": 97,
   "metadata": {},
   "outputs": [],
   "source": [
    "final20.to_csv('Resources/2020-Citibike-data.csv')"
   ]
  },
  {
   "cell_type": "code",
   "execution_count": 98,
   "metadata": {},
   "outputs": [
    {
     "data": {
      "text/plain": [
       "4568230.75885815"
      ]
     },
     "execution_count": 98,
     "metadata": {},
     "output_type": "execute_result"
    }
   ],
   "source": [
    "final20.Distance.sum()"
   ]
  },
  {
   "cell_type": "code",
   "execution_count": null,
   "metadata": {},
   "outputs": [],
   "source": []
  }
 ],
 "metadata": {
  "kernelspec": {
   "display_name": "Python [conda env:PythonData] *",
   "language": "python",
   "name": "conda-env-PythonData-py"
  },
  "language_info": {
   "codemirror_mode": {
    "name": "ipython",
    "version": 3
   },
   "file_extension": ".py",
   "mimetype": "text/x-python",
   "name": "python",
   "nbconvert_exporter": "python",
   "pygments_lexer": "ipython3",
   "version": "3.6.10"
  }
 },
 "nbformat": 4,
 "nbformat_minor": 4
}
